{
 "cells": [
  {
   "cell_type": "markdown",
   "metadata": {},
   "source": [
    "# Installation"
   ]
  },
  {
   "cell_type": "code",
   "execution_count": null,
   "metadata": {},
   "outputs": [],
   "source": [
    "# Windows\n",
    "\n",
    "!pip install requests\n",
    "!pip install beautifulsoup4\n",
    "!pip install lxml"
   ]
  },
  {
   "cell_type": "code",
   "execution_count": null,
   "metadata": {},
   "outputs": [],
   "source": [
    "# Linux / Mac / Google Collab\n",
    "\n",
    "!pip3 install requests\n",
    "!pip3 install beautifulsoup4\n",
    "!pip3 install lxml"
   ]
  },
  {
   "cell_type": "markdown",
   "metadata": {},
   "source": [
    "# Imports"
   ]
  },
  {
   "cell_type": "code",
   "execution_count": 1,
   "metadata": {},
   "outputs": [],
   "source": [
    "import requests\n",
    "from bs4 import BeautifulSoup"
   ]
  },
  {
   "cell_type": "markdown",
   "metadata": {},
   "source": [
    "# Requests"
   ]
  },
  {
   "cell_type": "markdown",
   "metadata": {},
   "source": [
    "### Status Code"
   ]
  },
  {
   "cell_type": "code",
   "execution_count": 2,
   "metadata": {},
   "outputs": [
    {
     "name": "stdout",
     "output_type": "stream",
     "text": [
      "<Response [200]>\n",
      "200\n"
     ]
    }
   ],
   "source": [
    "response = requests.get('https://www.google.com/')\n",
    "\n",
    "# StatusCode\n",
    "print(response)\n",
    "print(response.status_code)"
   ]
  },
  {
   "cell_type": "code",
   "execution_count": 3,
   "metadata": {},
   "outputs": [
    {
     "name": "stdout",
     "output_type": "stream",
     "text": [
      "<Response [404]>\n",
      "404\n"
     ]
    }
   ],
   "source": [
    "response = requests.get(\"http://example.com/page\")\n",
    "\n",
    "# StatusCode\n",
    "print(response)\n",
    "print(response.status_code)"
   ]
  },
  {
   "cell_type": "markdown",
   "metadata": {},
   "source": [
    "### Parameters"
   ]
  },
  {
   "cell_type": "code",
   "execution_count": 4,
   "metadata": {},
   "outputs": [
    {
     "name": "stdout",
     "output_type": "stream",
     "text": [
      "Failed\n",
      "404\n"
     ]
    }
   ],
   "source": [
    "response = requests.get(\"http://example.com/page\", params=dict(\n",
    "    query=\"web scraping\",\n",
    "    page=2\n",
    "))\n",
    "\n",
    "# Response\n",
    "if(response.status_code == 200):\n",
    "    print(\"Success\")\n",
    "    print(response.status_code)\n",
    "else:\n",
    "    print(\"Failed\")\n",
    "    print(response.status_code)"
   ]
  },
  {
   "cell_type": "code",
   "execution_count": 6,
   "metadata": {},
   "outputs": [
    {
     "name": "stdout",
     "output_type": "stream",
     "text": [
      "Success\n",
      "200\n"
     ]
    }
   ],
   "source": [
    "response = requests.post('https://httpbin.org/post', data={'key':'value'})\n",
    "\n",
    "# Response\n",
    "if(response.status_code == 200):\n",
    "    print(\"Success\")\n",
    "    print(response.status_code)\n",
    "else:\n",
    "    print(\"Failed\")\n",
    "    print(response.status_code)"
   ]
  },
  {
   "cell_type": "markdown",
   "metadata": {},
   "source": [
    "### Timeout"
   ]
  },
  {
   "cell_type": "code",
   "execution_count": 7,
   "metadata": {},
   "outputs": [
    {
     "name": "stdout",
     "output_type": "stream",
     "text": [
      "<Response [200]>\n",
      "200\n"
     ]
    }
   ],
   "source": [
    "requests.get('https://api.github.com', timeout=10) # Timeout\n",
    "\n",
    "\n",
    "# StatusCode\n",
    "print(response)\n",
    "print(response.status_code)"
   ]
  },
  {
   "cell_type": "markdown",
   "metadata": {},
   "source": [
    "### Get HTML Code"
   ]
  },
  {
   "cell_type": "code",
   "execution_count": 8,
   "metadata": {},
   "outputs": [
    {
     "name": "stdout",
     "output_type": "stream",
     "text": [
      "Success\n",
      "200\n",
      "<!DOCTYPE html PUBLIC \"-//W3C//DTD XHTML 1.0 Strict//EN\" \"http://www.w3.org/TR/xhtml1/DTD/xhtml1-strict.dtd\">\r\n",
      "<html>\r\n",
      "<head>\r\n",
      "<title>Test HTML File</title>\r\n",
      "<meta http-equiv=\"Content-Type\" content=\"text/html;charset=utf-8\" />\r\n",
      "</head>\r\n",
      "<body>\r\n",
      "\r\n",
      "<p>This is a very simple HTML file.</p>\r\n",
      "\r\n",
      "</body>\r\n",
      "</html>\r\n",
      "\n",
      "<!DOCTYPE html PUBLIC \"-//W3C//DTD XHTML 1.0 Strict//EN\" \"http://www.w3.org/TR/xhtml1/DTD/xhtml1-strict.dtd\">\r\n",
      "<html>\r\n",
      "<head>\r\n",
      "<title>Test HTML File</title>\r\n",
      "<meta http-equiv=\"Content-Type\" content=\"text/html;charset=utf-8\" />\r\n",
      "</head>\r\n",
      "<body>\r\n",
      "\r\n",
      "<p>This is a very simple HTML file.</p>\r\n",
      "\r\n",
      "</body>\r\n",
      "</html>\r\n",
      "\n"
     ]
    }
   ],
   "source": [
    "response = requests.get('http://www.brainjar.com/java/host/test.html')\n",
    "\n",
    "# Response\n",
    "if(response.status_code == 200):\n",
    "    print(\"Success\")\n",
    "    print(response.status_code)\n",
    "    print(response.text) # HTML Code\n",
    "else:\n",
    "    print(\"Failed\")\n",
    "    print(response.status_code)\n",
    "\n",
    "print(response.text)"
   ]
  },
  {
   "cell_type": "markdown",
   "metadata": {},
   "source": [
    "### JSON Response - For APIs"
   ]
  },
  {
   "cell_type": "code",
   "execution_count": 9,
   "metadata": {},
   "outputs": [
    {
     "name": "stdout",
     "output_type": "stream",
     "text": [
      "<Response [200]>\n",
      "\n",
      "\n",
      "{'abbreviation': 'IST', 'client_ip': '49.204.139.210', 'datetime': '2021-09-25T21:37:12.147307+05:30', 'day_of_week': 6, 'day_of_year': 268, 'dst': False, 'dst_from': None, 'dst_offset': 0, 'dst_until': None, 'raw_offset': 19800, 'timezone': 'Asia/Kolkata', 'unixtime': 1632586032, 'utc_datetime': '2021-09-25T16:07:12.147307+00:00', 'utc_offset': '+05:30', 'week_number': 38}\n",
      "\n",
      "\n",
      "Asia/Kolkata\n"
     ]
    }
   ],
   "source": [
    "response = requests.get('http://worldtimeapi.org/api/timezone/Asia/Kolkata')\n",
    "\n",
    "print(response)\n",
    "print(\"\\n\")\n",
    "print(response.json())\n",
    "print(\"\\n\")\n",
    "print(response.json()[\"timezone\"])"
   ]
  },
  {
   "cell_type": "markdown",
   "metadata": {},
   "source": [
    "### Response Headers"
   ]
  },
  {
   "cell_type": "code",
   "execution_count": 12,
   "metadata": {},
   "outputs": [
    {
     "name": "stdout",
     "output_type": "stream",
     "text": [
      "<Response [200]>\n",
      "GitHub.com\n",
      "{'Server': 'GitHub.com', 'Date': 'Sat, 25 Sep 2021 16:08:55 GMT', 'Content-Type': 'application/json; charset=utf-8', 'Cache-Control': 'public, max-age=60, s-maxage=60', 'Vary': 'Accept, Accept-Encoding, Accept, X-Requested-With', 'ETag': 'W/\"27278c3efffccc4a7be1bf315653b901b14f2989b2c2600d7cc2e90a97ffbf60\"', 'X-GitHub-Media-Type': 'github.v3; format=json', 'Access-Control-Expose-Headers': 'ETag, Link, Location, Retry-After, X-GitHub-OTP, X-RateLimit-Limit, X-RateLimit-Remaining, X-RateLimit-Used, X-RateLimit-Resource, X-RateLimit-Reset, X-OAuth-Scopes, X-Accepted-OAuth-Scopes, X-Poll-Interval, X-GitHub-Media-Type, Deprecation, Sunset', 'Access-Control-Allow-Origin': '*', 'Strict-Transport-Security': 'max-age=31536000; includeSubdomains; preload', 'X-Frame-Options': 'deny', 'X-Content-Type-Options': 'nosniff', 'X-XSS-Protection': '0', 'Referrer-Policy': 'origin-when-cross-origin, strict-origin-when-cross-origin', 'Content-Security-Policy': \"default-src 'none'\", 'Content-Encoding': 'gzip', 'X-RateLimit-Limit': '60', 'X-RateLimit-Remaining': '51', 'X-RateLimit-Reset': '1632586358', 'X-RateLimit-Resource': 'core', 'X-RateLimit-Used': '9', 'Accept-Ranges': 'bytes', 'Content-Length': '496', 'X-GitHub-Request-Id': '23B5:5653:932C6C:A5D07C:614F4997'}\n"
     ]
    }
   ],
   "source": [
    "response = requests.get('https://api.github.com')\n",
    "\n",
    "print(response)\n",
    "print(response.headers[\"Server\"])\n",
    "print(response.headers)"
   ]
  },
  {
   "cell_type": "markdown",
   "metadata": {},
   "source": [
    "### Request Headers"
   ]
  },
  {
   "cell_type": "code",
   "execution_count": 11,
   "metadata": {},
   "outputs": [
    {
     "name": "stdout",
     "output_type": "stream",
     "text": [
      "https://api.github.com/\n"
     ]
    }
   ],
   "source": [
    "response = requests.get('https://api.github.com')\n",
    "\n",
    "print(response.request.url)\n",
    "# print(response.request.headers)"
   ]
  },
  {
   "cell_type": "code",
   "execution_count": null,
   "metadata": {},
   "outputs": [],
   "source": [
    "# Spoof Headers\n",
    "\n",
    "customHeaders = {}\n",
    "customHeaders[\"User-Agent\"] = \"Mozilla/5.0 (Windows NT 10.0; Win64; x64) AppleWebKit/537.36 (KHTML, like Gecko) Chrome/92.0.4515.159 Safari/537.36\"\n",
    "response = requests.get('https://api.github.com', headers = customHeaders)\n",
    "\n",
    "print(response.request.headers)"
   ]
  },
  {
   "cell_type": "markdown",
   "metadata": {},
   "source": [
    "### Proxy"
   ]
  },
  {
   "cell_type": "code",
   "execution_count": null,
   "metadata": {},
   "outputs": [],
   "source": [
    "# Without Proxy\n",
    "# View IP - https://www.whatismyip.com/what-is-my-public-ip-address/\n",
    "\n",
    "response = requests.get(\"http://c788-183-83-154-213.ngrok.io/\")\n",
    "\n",
    "print(\"IP Address : \" + response.json()[\"ipaddress\"])"
   ]
  },
  {
   "cell_type": "code",
   "execution_count": null,
   "metadata": {},
   "outputs": [],
   "source": [
    "# Spoof with Proxy\n",
    "\n",
    "response = requests.get(\"http://c788-183-83-154-213.ngrok.io/\", proxies=dict(\n",
    "    http=\"88.82.95.146:3128\"\n",
    "))\n",
    "\n",
    "print(\"IP Address : \" + response.json()[\"ipaddress\"])"
   ]
  }
 ],
 "metadata": {
  "kernelspec": {
   "display_name": "Python 3",
   "language": "python",
   "name": "python3"
  },
  "language_info": {
   "codemirror_mode": {
    "name": "ipython",
    "version": 3
   },
   "file_extension": ".py",
   "mimetype": "text/x-python",
   "name": "python",
   "nbconvert_exporter": "python",
   "pygments_lexer": "ipython3",
   "version": "3.8.5"
  }
 },
 "nbformat": 4,
 "nbformat_minor": 4
}
